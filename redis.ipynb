{
 "cells": [
  {
   "cell_type": "code",
   "execution_count": 2,
   "metadata": {},
   "outputs": [],
   "source": [
    "import pandas as pd\n",
    "import numpy as np\n",
    "import openai\n",
    "import os"
   ]
  },
  {
   "cell_type": "code",
   "execution_count": 3,
   "metadata": {},
   "outputs": [
    {
     "name": "stdout",
     "output_type": "stream",
     "text": [
      "OPENAI_API_KEY is ready\n"
     ]
    }
   ],
   "source": [
    "if os.getenv(\"OPENAI_API_KEY\") is not None:\n",
    "    openai.api_key = os.getenv(\"OPENAI_API_KEY\")\n",
    "    print (\"OPENAI_API_KEY is ready\")\n",
    "else:\n",
    "    print (\"OPENAI_API_KEY environment variable not found\")"
   ]
  },
  {
   "attachments": {},
   "cell_type": "markdown",
   "metadata": {},
   "source": [
    "## Read data from file created in 'stavangerkommune/åarse_website.ipynb'"
   ]
  },
  {
   "cell_type": "code",
   "execution_count": 4,
   "metadata": {},
   "outputs": [
    {
     "data": {
      "text/html": [
       "<div>\n",
       "<style scoped>\n",
       "    .dataframe tbody tr th:only-of-type {\n",
       "        vertical-align: middle;\n",
       "    }\n",
       "\n",
       "    .dataframe tbody tr th {\n",
       "        vertical-align: top;\n",
       "    }\n",
       "\n",
       "    .dataframe thead th {\n",
       "        text-align: right;\n",
       "    }\n",
       "</style>\n",
       "<table border=\"1\" class=\"dataframe\">\n",
       "  <thead>\n",
       "    <tr style=\"text-align: right;\">\n",
       "      <th></th>\n",
       "      <th>4</th>\n",
       "      <th>5</th>\n",
       "      <th>6</th>\n",
       "    </tr>\n",
       "  </thead>\n",
       "  <tbody>\n",
       "    <tr>\n",
       "      <th>id</th>\n",
       "      <td>8b853fb08f5e49e694d546728ea58ea8</td>\n",
       "      <td>44b23d5a563c49b8937fdadedde4a872</td>\n",
       "      <td>825e2f27b63147cd85f15e47391bb7c8</td>\n",
       "    </tr>\n",
       "    <tr>\n",
       "      <th>address</th>\n",
       "      <td>www.stavanger.kommune.no/om-stavanger-kommune/...</td>\n",
       "      <td>www.stavanger.kommune.no/naring-og-arbeidsliv/...</td>\n",
       "      <td>www.stavanger.kommune.no/politikk/finn-politik...</td>\n",
       "    </tr>\n",
       "    <tr>\n",
       "      <th>parent</th>\n",
       "      <td>5477ddfaf234486a9c42c8ab546608d0</td>\n",
       "      <td>79c8f7299b09416db82a92cba5e71783</td>\n",
       "      <td>18448b3cd3d74b10a54e270206e15d71</td>\n",
       "    </tr>\n",
       "    <tr>\n",
       "      <th>children</th>\n",
       "      <td>[]</td>\n",
       "      <td>[]</td>\n",
       "      <td>[]</td>\n",
       "    </tr>\n",
       "    <tr>\n",
       "      <th>header</th>\n",
       "      <td>Seriøsitetsbestemmelser Stavanger kommune</td>\n",
       "      <td>6.1 Brytningstid</td>\n",
       "      <td>Kort fortalt</td>\n",
       "    </tr>\n",
       "    <tr>\n",
       "      <th>paragraph_number</th>\n",
       "      <td>18</td>\n",
       "      <td>66</td>\n",
       "      <td>16</td>\n",
       "    </tr>\n",
       "    <tr>\n",
       "      <th>text</th>\n",
       "      <td>Seriøsitetsbestemmelser Stavanger kommune -  ...</td>\n",
       "      <td>6.1 Brytningstid - Når denne planen skrives s...</td>\n",
       "      <td>Kort fortalt - Her finner du oversikt over al...</td>\n",
       "    </tr>\n",
       "    <tr>\n",
       "      <th>author</th>\n",
       "      <td></td>\n",
       "      <td></td>\n",
       "      <td></td>\n",
       "    </tr>\n",
       "    <tr>\n",
       "      <th>date</th>\n",
       "      <td>03.06.2022</td>\n",
       "      <td>24.01.2023 12.29.21</td>\n",
       "      <td></td>\n",
       "    </tr>\n",
       "    <tr>\n",
       "      <th>star_count</th>\n",
       "      <td>20</td>\n",
       "      <td>20</td>\n",
       "      <td>20</td>\n",
       "    </tr>\n",
       "    <tr>\n",
       "      <th>char_count</th>\n",
       "      <td>23596</td>\n",
       "      <td>19717</td>\n",
       "      <td>20948</td>\n",
       "    </tr>\n",
       "    <tr>\n",
       "      <th>text_hash</th>\n",
       "      <td>-7424391898506248631</td>\n",
       "      <td>-4944443677513589319</td>\n",
       "      <td>8428085813350174606</td>\n",
       "    </tr>\n",
       "    <tr>\n",
       "      <th>embedding</th>\n",
       "      <td>[-0.013609503395855427, -0.0005882888217456639...</td>\n",
       "      <td>[-0.00238802726380527, -0.030221812427043915, ...</td>\n",
       "      <td>[-0.00371743505820632, -0.011319935321807861, ...</td>\n",
       "    </tr>\n",
       "  </tbody>\n",
       "</table>\n",
       "</div>"
      ],
      "text/plain": [
       "                                                                  4  \\\n",
       "id                                 8b853fb08f5e49e694d546728ea58ea8   \n",
       "address           www.stavanger.kommune.no/om-stavanger-kommune/...   \n",
       "parent                             5477ddfaf234486a9c42c8ab546608d0   \n",
       "children                                                         []   \n",
       "header                    Seriøsitetsbestemmelser Stavanger kommune   \n",
       "paragraph_number                                                 18   \n",
       "text               Seriøsitetsbestemmelser Stavanger kommune -  ...   \n",
       "author                                                                \n",
       "date                                                     03.06.2022   \n",
       "star_count                                                       20   \n",
       "char_count                                                    23596   \n",
       "text_hash                                      -7424391898506248631   \n",
       "embedding         [-0.013609503395855427, -0.0005882888217456639...   \n",
       "\n",
       "                                                                  5  \\\n",
       "id                                 44b23d5a563c49b8937fdadedde4a872   \n",
       "address           www.stavanger.kommune.no/naring-og-arbeidsliv/...   \n",
       "parent                             79c8f7299b09416db82a92cba5e71783   \n",
       "children                                                         []   \n",
       "header                                             6.1 Brytningstid   \n",
       "paragraph_number                                                 66   \n",
       "text               6.1 Brytningstid - Når denne planen skrives s...   \n",
       "author                                                                \n",
       "date                                            24.01.2023 12.29.21   \n",
       "star_count                                                       20   \n",
       "char_count                                                    19717   \n",
       "text_hash                                      -4944443677513589319   \n",
       "embedding         [-0.00238802726380527, -0.030221812427043915, ...   \n",
       "\n",
       "                                                                  6  \n",
       "id                                 825e2f27b63147cd85f15e47391bb7c8  \n",
       "address           www.stavanger.kommune.no/politikk/finn-politik...  \n",
       "parent                             18448b3cd3d74b10a54e270206e15d71  \n",
       "children                                                         []  \n",
       "header                                                 Kort fortalt  \n",
       "paragraph_number                                                 16  \n",
       "text               Kort fortalt - Her finner du oversikt over al...  \n",
       "author                                                               \n",
       "date                                                                 \n",
       "star_count                                                       20  \n",
       "char_count                                                    20948  \n",
       "text_hash                                       8428085813350174606  \n",
       "embedding         [-0.00371743505820632, -0.011319935321807861, ...  "
      ]
     },
     "execution_count": 4,
     "metadata": {},
     "output_type": "execute_result"
    }
   ],
   "source": [
    "\n",
    "# Read the data\n",
    "df = pd.read_feather('cleand.feather')\n",
    "# remove rows  with missing embeddings\n",
    "df = df[df.embedding.notnull()]\n",
    "df.head(3).T"
   ]
  },
  {
   "attachments": {},
   "cell_type": "markdown",
   "metadata": {},
   "source": [
    "## Connect to Redis\n",
    "Now that we have our Redis database running, we can connect to it using the Redis-py client. We will use the default host and port for the Redis database which is localhost:6379."
   ]
  },
  {
   "cell_type": "code",
   "execution_count": 5,
   "metadata": {},
   "outputs": [
    {
     "data": {
      "text/plain": [
       "True"
      ]
     },
     "execution_count": 5,
     "metadata": {},
     "output_type": "execute_result"
    }
   ],
   "source": [
    "import redis\n",
    "from redis.commands.search.indexDefinition import (\n",
    "    IndexDefinition,\n",
    "    IndexType\n",
    ")\n",
    "from redis.commands.search.query import Query\n",
    "from redis.commands.search.field import (\n",
    "    TextField,\n",
    "    VectorField\n",
    ")\n",
    "\n",
    "REDIS_HOST =  \"localhost\"\n",
    "REDIS_PORT = 6379\n",
    "REDIS_PASSWORD = \"\" # default for passwordless Redis\n",
    "\n",
    "# Connect to Redis\n",
    "redis_client = redis.Redis(\n",
    "    host=REDIS_HOST,\n",
    "    port=REDIS_PORT,\n",
    "    password=REDIS_PASSWORD\n",
    ")\n",
    "redis_client.ping()"
   ]
  },
  {
   "attachments": {},
   "cell_type": "markdown",
   "metadata": {},
   "source": [
    "## Creating a Search Index in Redis\n",
    "The below cells will show how to specify and create a search index in Redis. We will\n",
    "\n",
    "1. Set some constants for defining our index like the distance metric and the index name\n",
    "2. Define the index schema with RediSearch fields\n",
    "3. Create the index"
   ]
  },
  {
   "cell_type": "code",
   "execution_count": 6,
   "metadata": {},
   "outputs": [],
   "source": [
    "# Constants\n",
    "VECTOR_DIM = len(df['embedding'][12]) # length of the vectors\n",
    "VECTOR_NUMBER = len(df)                 # initial number of vectors\n",
    "INDEX_NAME = \"embeddings-index\"           # name of the search index\n",
    "PREFIX = \"doc\"                            # prefix for the document keys\n",
    "DISTANCE_METRIC = \"COSINE\"                # distance metric for the vectors (ex. COSINE, IP, L2)"
   ]
  },
  {
   "cell_type": "code",
   "execution_count": 7,
   "metadata": {},
   "outputs": [],
   "source": [
    "# Define RediSearch fields for each of the columns in the dataset\n",
    "title = TextField(name=\"title\")\n",
    "url = TextField(name=\"url\")\n",
    "text = TextField(name=\"text\")\n",
    "date = TextField(name=\"date\")\n",
    "\n",
    "text_embedding = VectorField(\"content_vector\",\n",
    "    \"FLAT\", {\n",
    "        \"TYPE\": \"FLOAT32\",\n",
    "        \"DIM\": VECTOR_DIM,\n",
    "        \"DISTANCE_METRIC\": DISTANCE_METRIC,\n",
    "        \"INITIAL_CAP\": VECTOR_NUMBER,\n",
    "    }\n",
    ")\n",
    "fields = [title, url, text, date, text_embedding]"
   ]
  },
  {
   "cell_type": "code",
   "execution_count": 8,
   "metadata": {},
   "outputs": [],
   "source": [
    "# Check if index exists\n",
    "try:\n",
    "    redis_client.ft(INDEX_NAME).info()\n",
    "    print(\"Index already exists\")\n",
    "except:\n",
    "    # Create RediSearch Index\n",
    "    redis_client.ft(INDEX_NAME).create_index(\n",
    "        fields = fields,\n",
    "        definition = IndexDefinition(prefix=[PREFIX], index_type=IndexType.HASH)\n",
    ")"
   ]
  },
  {
   "attachments": {},
   "cell_type": "markdown",
   "metadata": {},
   "source": [
    "## Load Documents into the Index\n",
    "Now that we have a search index, we can load documents into it. We will use the same documents we used in the previous examples. In Redis, either the Hash or JSON (if using RedisJSON in addition to RediSearch) data types can be used to store documents. We will use the HASH data type in this example. The below cells will show how to load documents into the index."
   ]
  },
  {
   "cell_type": "code",
   "execution_count": 9,
   "metadata": {},
   "outputs": [],
   "source": [
    "def index_documents(client: redis.Redis, prefix: str, documents: pd.DataFrame):\n",
    "    records = documents.to_dict(\"records\")\n",
    "    for doc in records:\n",
    "        key = f\"{prefix}:{str(doc['id'])}\"\n",
    "\n",
    "        # create byte vectors for title and content\n",
    "        content_embedding = np.array(doc[\"content_vector\"], dtype=np.float32).tobytes()\n",
    "\n",
    "        # replace list of floats with byte vectors\n",
    "        doc[\"content_vector\"] = content_embedding\n",
    "\n",
    "        client.hset(key, mapping = doc)"
   ]
  },
  {
   "cell_type": "code",
   "execution_count": 10,
   "metadata": {},
   "outputs": [
    {
     "name": "stdout",
     "output_type": "stream",
     "text": [
      "Loaded 15879 documents in Redis search index with name: embeddings-index\n"
     ]
    }
   ],
   "source": [
    "data = df.rename(columns={'header': 'title', 'address': 'url', 'text': 'text', 'date': 'date', 'embedding': 'content_vector'})[['id', 'url', 'title', 'text', 'date', 'content_vector']]\n",
    "index_documents(redis_client, PREFIX, data)\n",
    "print(f\"Loaded {redis_client.info()['db0']['keys']} documents in Redis search index with name: {INDEX_NAME}\")"
   ]
  },
  {
   "attachments": {},
   "cell_type": "markdown",
   "metadata": {},
   "source": [
    "## Simple Vector Search Queries with OpenAI Query Embeddings\n",
    "Now that we have a search index and documents loaded into it, we can run search queries. Below we will provide a function that will run a search query and return the results. Using this function we run a few queries that will show how you can utilize Redis as a vector database."
   ]
  },
  {
   "cell_type": "code",
   "execution_count": 11,
   "metadata": {},
   "outputs": [],
   "source": [
    "def search_redis(\n",
    "    redis_client: redis.Redis,\n",
    "    user_query: str,\n",
    "    index_name: str = \"embeddings-index\",\n",
    "    vector_field: str = \"content_vector\",\n",
    "    return_fields: list = [\"title\", \"url\", \"text\", \"vector_score\"],\n",
    "    hybrid_fields = \"*\",\n",
    "    k: int = 20,\n",
    "    print_results: bool = True,\n",
    ") -> list[dict]:\n",
    "\n",
    "    # Creates embedding vector from user query\n",
    "    embedded_query = openai.Embedding.create(input=user_query,\n",
    "                                            model=\"text-embedding-ada-002\",\n",
    "                                            )[\"data\"][0]['embedding']\n",
    "\n",
    "    # Prepare the Query\n",
    "    base_query = f'{hybrid_fields}=>[KNN {k} @{vector_field} $vector AS vector_score]'\n",
    "    query = (\n",
    "        Query(base_query)\n",
    "         .return_fields(*return_fields)\n",
    "         .sort_by(\"vector_score\")\n",
    "         .paging(0, k)\n",
    "         .dialect(2)\n",
    "    )\n",
    "    params_dict = {\"vector\": np.array(embedded_query).astype(dtype=np.float32).tobytes()}\n",
    "\n",
    "    # perform vector search\n",
    "    results = redis_client.ft(index_name).search(query, params_dict)\n",
    "    if print_results:\n",
    "        for i, article in enumerate(results.docs):\n",
    "            score = 1 - float(article.vector_score)\n",
    "            print(f\"{i}. {article.title} (Score: {round(score ,3) })\")\n",
    "    return results.docs"
   ]
  },
  {
   "cell_type": "code",
   "execution_count": 12,
   "metadata": {},
   "outputs": [
    {
     "name": "stdout",
     "output_type": "stream",
     "text": [
      "0.  Ser nytten av vaksinen (Score: 0.859)\n",
      "1.  - Vær forsiktig fram til vaksinen (Score: 0.857)\n",
      "2.  Usikkert hvordan pandemien utvikler seg (Score: 0.857)\n",
      "3.  - Vær forsiktig fram til vaksinen (Score: 0.856)\n",
      "4.  Ber alle være forsiktige (Score: 0.855)\n",
      "5.  Hvem som skal ta dose 4 (Score: 0.853)\n",
      "6.  Finnøy (Score: 0.852)\n",
      "7.  Sykehjemsbeboer døde få dager etter vaksine (Score: 0.851)\n",
      "8.  De som er over 75 år kan få dose 4 (Score: 0.85)\n",
      "9.  Sykehjemsbeboer døde få dager etter vaksine (Score: 0.85)\n"
     ]
    }
   ],
   "source": [
    "# For using OpenAI to generate query embedding\n",
    "#results = search_redis(redis_client, 'Jeg er 20år, interessert i dans og musikk og ønsker å søke på et legat, Hvor skal jeg sende inn søknadden? Det er ikke rett, jeg skal sende inn søknad til legat.', k=10)\n",
    "results = search_redis(redis_client, 'Jeg er en kvinne på 82år og lurer på Koronavaksine, nyheter', k=10)"
   ]
  },
  {
   "cell_type": "code",
   "execution_count": 98,
   "metadata": {},
   "outputs": [
    {
     "data": {
      "text/plain": [
       "Document {'id': 'doc:9cc1107931334f2580830fc5a174c3eb', 'payload': None, 'vector_score': '0.140718996525', 'title': ' Ser nytten av vaksinen', 'url': 'www.stavanger.kommune.no/nn/nyheter/koronadodsfall-ved-ramsvigtunet-sykehjem-og-bofellesskap/index.html', 'text': ' Ser nytten av vaksinen - Smittevernoverlege Ruth Midtgarden fremholder at selv om utbruddet er stort, så\\ner dødeligheten lav i forhold til før vaksineringen.\\n-Selv om mange av de som er smittet er vaksinert, så er sykeligheten og\\ndødeligheten mye lavere nå enn i starten av pandemien. Så vi ser nytten av\\nvaksineringen, sier Midtgarden.\\nDe pårørende har samtykket til at Stavanger kommune informerer om dødsfallet.\\nAv personvernhensyn vil det ikke bli gitt flere opplysninger om avdøde.\\nSykehjemmet er stengt for besøk inntil videre. Dagsenteret er foreløpig stengt\\nfram til 22. november. Alle friske beboere ved sykehjemmet har fått dose 3 av\\nkoronavaksine samt influensavaksine.\\n'}"
      ]
     },
     "execution_count": 98,
     "metadata": {},
     "output_type": "execute_result"
    }
   ],
   "source": [
    "results[0]"
   ]
  },
  {
   "cell_type": "code",
   "execution_count": 63,
   "metadata": {},
   "outputs": [
    {
     "data": {
      "text/plain": [
       "' Hvem kan søke? - Alle lag og organisasjoner, idrettslag, musikkorps, velforeninger, borettslagm.m. kan søke om tilskudd til aktiviteter. Tilskuddet skal gå til aktiviteterfor hele befolkningen, men ha særlig søkelys på aktiviteter for barn og unge ikommunedelen.'"
      ]
     },
     "execution_count": 63,
     "metadata": {},
     "output_type": "execute_result"
    }
   ],
   "source": [
    "results[7].text.replace('\\n', '').replace('\\xa0','')"
   ]
  },
  {
   "cell_type": "code",
   "execution_count": 64,
   "metadata": {},
   "outputs": [],
   "source": [
    "input_text = \"\"\"As a helpfull Chatbot you should answer the User based on the Text provided in the chat. \\nUser: Jeg er 20år, interessert i dans og musikk og ønsker å søke på et legat. \\n Text: ' Hvem kan søke? - Formålet med legatet er å støtte seriøse kulturformål, i første rekke seriøs musikk og seriøs bildende kunst. Tilskuddsmidler fra legatets avkastning kan gis til større prosjekter og tiltak i Stavanger. Tiltak som ikke omfattes av andre kommunale tilskudds- og/eller finansieringsordninger vil normalt bli prioritert. Institusjoner, organisasjoner og enkeltpersoner i Stavanger kan søke. Det gis ikke midler til ordinær drift og programvirksomhet samt til utdanning.' \\n Chatbot:\"\"\" "
   ]
  },
  {
   "cell_type": "code",
   "execution_count": 78,
   "metadata": {},
   "outputs": [],
   "source": [
    "response = openai.ChatCompletion.create(\n",
    "  model=\"gpt-3.5-turbo\",\n",
    "  messages=[\n",
    "        {\"role\": \"system\", \"content\": \"You are a helpful assistant.\"},\n",
    "        {\"role\": \"user\", \"content\": \"Who won the world series in 2020?\"},\n",
    "        {\"role\": \"assistant\", \"content\": \"The Los Angeles Dodgers won the World Series in 2020.\"},\n",
    "        {\"role\": \"user\", \"content\": \"Where was it played?\"}\n",
    "    ]\n",
    ")"
   ]
  },
  {
   "cell_type": "code",
   "execution_count": 83,
   "metadata": {},
   "outputs": [
    {
     "data": {
      "text/plain": [
       "'The 2020 World Series was played at Globe Life Field, a baseball park in Arlington, Texas.'"
      ]
     },
     "execution_count": 83,
     "metadata": {},
     "output_type": "execute_result"
    }
   ],
   "source": [
    "response['choices'][0]['message']['content']"
   ]
  },
  {
   "cell_type": "code",
   "execution_count": null,
   "metadata": {},
   "outputs": [],
   "source": []
  }
 ],
 "metadata": {
  "kernelspec": {
   "display_name": "pack",
   "language": "python",
   "name": "python3"
  },
  "language_info": {
   "codemirror_mode": {
    "name": "ipython",
    "version": 3
   },
   "file_extension": ".py",
   "mimetype": "text/x-python",
   "name": "python",
   "nbconvert_exporter": "python",
   "pygments_lexer": "ipython3",
   "version": "3.9.15"
  },
  "orig_nbformat": 4,
  "vscode": {
   "interpreter": {
    "hash": "a688294149abf53c9d3013316911a21328115b47f2ecae5344c5637e9195f3d6"
   }
  }
 },
 "nbformat": 4,
 "nbformat_minor": 2
}

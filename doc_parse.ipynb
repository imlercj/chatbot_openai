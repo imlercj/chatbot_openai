{
 "cells": [
  {
   "cell_type": "code",
   "execution_count": 2,
   "metadata": {},
   "outputs": [],
   "source": [
    "import docx\n",
    "import json\n",
    "\n",
    "filepath = \"data/doc/Handlingsplan klima og miljø 2022 - 2026 juni 2022.docx\"\n",
    "\n",
    "doc = docx.Document(filepath)"
   ]
  },
  {
   "cell_type": "code",
   "execution_count": 10,
   "metadata": {},
   "outputs": [
    {
     "name": "stdout",
     "output_type": "stream",
     "text": [
      "76\n",
      "375\n"
     ]
    }
   ],
   "source": [
    "text = []\n",
    "i = 0\n",
    "training_data = []\n",
    "#{\"prompt\":\"\", \"completion\":\" <company voice textual content2>\"}\n",
    "for para in doc.paragraphs:\n",
    "    if len(para.text) > 1:\n",
    "        text.append((i,para.text))\n",
    "        i += 1\n",
    "        if i > 1:\n",
    "            training_data.append({\"prompt\":\"\", \"completion\":para.text})\n",
    "\n",
    "training_data = training_data[:-2]\n",
    "print (len(training_data))\n",
    "for table in doc.tables:\n",
    "    # loop through the rows in the table\n",
    "    for i, row in enumerate(table.rows):\n",
    "        # create a list of the text in each cell in the row\n",
    "        row_text = ' - '.join([cell.text for cell in row.cells if len(cell.text) > 1])\n",
    "        row_text = row_text.replace('\\n', ' ')\n",
    "        training_data.append({\"prompt\":\"\", \"completion\":row_text})\n",
    "        #print(f\"Row {i+1}: {row_text}\")\n",
    "#print(\"\\n\".join([str(i) + ' : ' + p for i,p in text]))\n",
    "print (len(training_data))"
   ]
  },
  {
   "cell_type": "code",
   "execution_count": 11,
   "metadata": {},
   "outputs": [],
   "source": [
    "with open('training_data.json', 'w') as outfile:\n",
    "    json.dump(training_data, outfile)"
   ]
  },
  {
   "cell_type": "code",
   "execution_count": null,
   "metadata": {},
   "outputs": [],
   "source": [
    "import pandas as pd\n",
    "\n"
   ]
  }
 ],
 "metadata": {
  "kernelspec": {
   "display_name": "pack",
   "language": "python",
   "name": "python3"
  },
  "language_info": {
   "codemirror_mode": {
    "name": "ipython",
    "version": 3
   },
   "file_extension": ".py",
   "mimetype": "text/x-python",
   "name": "python",
   "nbconvert_exporter": "python",
   "pygments_lexer": "ipython3",
   "version": "3.9.15"
  },
  "orig_nbformat": 4,
  "vscode": {
   "interpreter": {
    "hash": "a688294149abf53c9d3013316911a21328115b47f2ecae5344c5637e9195f3d6"
   }
  }
 },
 "nbformat": 4,
 "nbformat_minor": 2
}
